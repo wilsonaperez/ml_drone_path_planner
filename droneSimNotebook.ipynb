{
 "cells": [
  {
   "cell_type": "code",
   "execution_count": null,
   "id": "567cb400-18c8-4aa4-b19f-3f6a134c0567",
   "metadata": {},
   "outputs": [],
   "source": [
    "# 📌 1️⃣ Setup\n",
    "import pandas as pd\n",
    "import numpy as np\n",
    "import ast\n",
    "import matplotlib.pyplot as plt\n",
    "\n",
    "from planner.simulation import simulate_drone_energy_data\n",
    "from planner.ml_predictor import train_energy_predictor, load_energy_predictor\n",
    "from planner.path_planner import plan_energy_efficient_path\n",
    "from planner.database import init_db, insert_path, query_paths_by_energy\n",
    "\n",
    "print(\"✅ Environment ready\")\n",
    "\n",
    "# 📌 2️⃣ Initialize the database\n",
    "init_db()\n",
    "print(\"Database initialized with 'paths' table.\")"
   ]
  },
  {
   "cell_type": "code",
   "execution_count": null,
   "id": "4cfd8b17-4c81-4165-8f1c-e60fd1e41c70",
   "metadata": {},
   "outputs": [],
   "source": [
    "# 📌 2️⃣ Generate and Inspect Synthetic Drone Energy Data\n",
    "simulate_drone_energy_data(num_samples=5000)\n",
    "\n",
    "df = pd.read_csv(\"data/simulated_drone_energy.csv\")\n",
    "print(df.head())\n",
    "print(df.describe())\n",
    "\n",
    "df.hist(figsize=(12, 8))\n",
    "plt.show()\n"
   ]
  },
  {
   "cell_type": "code",
   "execution_count": null,
   "id": "2ab5c5c5-0073-4c4b-a9ac-03b81aae4411",
   "metadata": {},
   "outputs": [],
   "source": [
    "# 📌 3️⃣ Train ML Model and Evaluate\n",
    "train_energy_predictor()\n",
    "model = load_energy_predictor()\n",
    "print(\"✅ ML model loaded\")\n"
   ]
  },
  {
   "cell_type": "code",
   "execution_count": null,
   "id": "e7e37f74-839e-4ff0-8f6f-deb957c886e9",
   "metadata": {},
   "outputs": [],
   "source": [
    "# 📌 4️⃣ Test Energy Prediction\n",
    "speed = 5  # m/s\n",
    "acceleration = 0  # m/s^2\n",
    "altitude = 10  # m\n",
    "\n",
    "predicted_power = model.predict([[speed, acceleration, altitude]])[0]\n",
    "print(f\"Predicted Power: {predicted_power:.2f} W\")\n"
   ]
  },
  {
   "cell_type": "code",
   "execution_count": null,
   "id": "9cf3aa31-3157-41f5-814b-6a61adadcf17",
   "metadata": {},
   "outputs": [],
   "source": [
    "# 📌 5️⃣ Plan an Energy-Efficient Path\n",
    "start = (0, 0)\n",
    "goal = (10, 10)\n",
    "\n",
    "path = plan_energy_efficient_path(start, goal, model)\n",
    "print(\"Planned Path:\", path)\n"
   ]
  },
  {
   "cell_type": "code",
   "execution_count": null,
   "id": "c408a463-2065-4e6b-a05c-580b742b775c",
   "metadata": {},
   "outputs": [],
   "source": [
    "# 📌 6️⃣ Visualize the Planned Path\n",
    "path_array = np.array(path)\n",
    "\n",
    "plt.figure(figsize=(6, 6))\n",
    "plt.plot(path_array[:, 0], path_array[:, 1], marker='o')\n",
    "plt.title(\"Energy-Efficient Drone Path\")\n",
    "plt.xlabel(\"X Coordinate\")\n",
    "plt.ylabel(\"Y Coordinate\")\n",
    "plt.grid(True)\n",
    "plt.show()\n"
   ]
  },
  {
   "cell_type": "code",
   "execution_count": null,
   "id": "e577519b-62b9-4dce-bf62-160beb0d010c",
   "metadata": {},
   "outputs": [],
   "source": [
    "# 📌 7️⃣ Test Database Logging and Query\n",
    "import json\n",
    "\n",
    "results = query_paths_by_energy(max_energy=50)\n",
    "print(\"Paths with total energy <= 50:\")\n",
    "for r in results:\n",
    "    path_json = r[1]\n",
    "    path_list = json.loads(path_json)\n",
    "    print(f\"ID: {r[0]}, Path: {path_list}, Total Energy: {r[2]:.2f} W\")\n"
   ]
  },
  {
   "cell_type": "code",
   "execution_count": null,
   "id": "ff580449-0dc0-43c1-9258-b79fea802fa1",
   "metadata": {},
   "outputs": [],
   "source": [
    "import ast\n"
   ]
  },
  {
   "cell_type": "code",
   "execution_count": 3,
   "id": "53682b1f-7581-469e-ba4d-a8af6805a10a",
   "metadata": {},
   "outputs": [
    {
     "name": "stdout",
     "output_type": "stream",
     "text": [
      "Imports done.\n",
      "Previous database removed.\n",
      "Database initialized.\n",
      "Simulated dataset saved to data/simulated_drone_energy.csv\n",
      "Drone energy simulation data generated.\n",
      "Model training complete. Test R^2: 1.00\n",
      "Model saved to drone_energy_model.pkl\n",
      "Energy prediction model trained and saved.\n",
      "Energy prediction model loaded.\n",
      "Step: (1, 1), Predicted Power: 11.53 W\n",
      "Step: (2, 2), Predicted Power: 11.53 W\n",
      "Step: (3, 3), Predicted Power: 11.53 W\n",
      "Step: (4, 4), Predicted Power: 11.53 W\n",
      "Step: (5, 5), Predicted Power: 11.53 W\n",
      "Step: (6, 6), Predicted Power: 11.53 W\n",
      "Step: (7, 7), Predicted Power: 11.53 W\n",
      "Step: (8, 8), Predicted Power: 11.53 W\n",
      "Step: (9, 9), Predicted Power: 11.53 W\n",
      "Step: (10, 10), Predicted Power: 11.53 W\n",
      "Planned Path: [[0, 0], [1, 1], [2, 2], [3, 3], [4, 4], [5, 5], [6, 6], [7, 7], [8, 8], [9, 9], [10, 10]]\n",
      "Estimated total energy for planned path: 68.45 W\n",
      "Planned path inserted into database.\n",
      "Paths with total energy <= 80:\n",
      "ID: 1, Path: [[0, 0], [1, 1], [2, 2], [3, 3], [4, 4], [5, 5], [6, 6], [7, 7], [8, 8], [9, 9], [10, 10]], Total Energy: 68.45 W\n"
     ]
    },
    {
     "name": "stderr",
     "output_type": "stream",
     "text": [
      "C:\\Users\\Wilson\\anaconda3\\envs\\pt\\Lib\\site-packages\\sklearn\\utils\\validation.py:2739: UserWarning: X does not have valid feature names, but RandomForestRegressor was fitted with feature names\n",
      "  warnings.warn(\n",
      "C:\\Users\\Wilson\\anaconda3\\envs\\pt\\Lib\\site-packages\\sklearn\\utils\\validation.py:2739: UserWarning: X does not have valid feature names, but RandomForestRegressor was fitted with feature names\n",
      "  warnings.warn(\n",
      "C:\\Users\\Wilson\\anaconda3\\envs\\pt\\Lib\\site-packages\\sklearn\\utils\\validation.py:2739: UserWarning: X does not have valid feature names, but RandomForestRegressor was fitted with feature names\n",
      "  warnings.warn(\n",
      "C:\\Users\\Wilson\\anaconda3\\envs\\pt\\Lib\\site-packages\\sklearn\\utils\\validation.py:2739: UserWarning: X does not have valid feature names, but RandomForestRegressor was fitted with feature names\n",
      "  warnings.warn(\n",
      "C:\\Users\\Wilson\\anaconda3\\envs\\pt\\Lib\\site-packages\\sklearn\\utils\\validation.py:2739: UserWarning: X does not have valid feature names, but RandomForestRegressor was fitted with feature names\n",
      "  warnings.warn(\n",
      "C:\\Users\\Wilson\\anaconda3\\envs\\pt\\Lib\\site-packages\\sklearn\\utils\\validation.py:2739: UserWarning: X does not have valid feature names, but RandomForestRegressor was fitted with feature names\n",
      "  warnings.warn(\n",
      "C:\\Users\\Wilson\\anaconda3\\envs\\pt\\Lib\\site-packages\\sklearn\\utils\\validation.py:2739: UserWarning: X does not have valid feature names, but RandomForestRegressor was fitted with feature names\n",
      "  warnings.warn(\n",
      "C:\\Users\\Wilson\\anaconda3\\envs\\pt\\Lib\\site-packages\\sklearn\\utils\\validation.py:2739: UserWarning: X does not have valid feature names, but RandomForestRegressor was fitted with feature names\n",
      "  warnings.warn(\n",
      "C:\\Users\\Wilson\\anaconda3\\envs\\pt\\Lib\\site-packages\\sklearn\\utils\\validation.py:2739: UserWarning: X does not have valid feature names, but RandomForestRegressor was fitted with feature names\n",
      "  warnings.warn(\n",
      "C:\\Users\\Wilson\\anaconda3\\envs\\pt\\Lib\\site-packages\\sklearn\\utils\\validation.py:2739: UserWarning: X does not have valid feature names, but RandomForestRegressor was fitted with feature names\n",
      "  warnings.warn(\n",
      "C:\\Users\\Wilson\\anaconda3\\envs\\pt\\Lib\\site-packages\\sklearn\\utils\\validation.py:2739: UserWarning: X does not have valid feature names, but RandomForestRegressor was fitted with feature names\n",
      "  warnings.warn(\n"
     ]
    },
    {
     "data": {
      "image/png": "[encoded data removed]",
      "text/plain": [
       "<Figure size 600x600 with 1 Axes>"
      ]
     },
     "metadata": {},
     "output_type": "display_data"
    }
   ],
   "source": [
    "# 📌 ml_drone_path_debug.ipynb\n",
    "# ML-Powered Energy-Efficient Drone Path Planner — Full Pipeline Test\n",
    "\n",
    "# -- 1️⃣ Imports and Initialization --\n",
    "\n",
    "import numpy as np\n",
    "import pandas as pd\n",
    "import json\n",
    "import os\n",
    "\n",
    "from planner.simulation import simulate_drone_energy_data\n",
    "from planner.ml_predictor import train_energy_predictor, load_energy_predictor\n",
    "from planner.path_planner import plan_energy_efficient_path\n",
    "from planner.database import init_db, insert_path, query_paths_by_energy\n",
    "\n",
    "print(\"Imports done.\")\n",
    "\n",
    "# -- 2️⃣ Clean previous database if exists and initialize --\n",
    "\n",
    "db_path = \"drone_paths.db\"\n",
    "if os.path.exists(db_path):\n",
    "    os.remove(db_path)\n",
    "    print(\"Previous database removed.\")\n",
    "\n",
    "init_db()\n",
    "print(\"Database initialized.\")\n",
    "\n",
    "# -- 3️⃣ Simulate drone energy data --\n",
    "\n",
    "simulate_drone_energy_data(num_samples=5000)\n",
    "print(\"Drone energy simulation data generated.\")\n",
    "\n",
    "# -- 4️⃣ Train ML energy prediction model --\n",
    "\n",
    "train_energy_predictor()\n",
    "print(\"Energy prediction model trained and saved.\")\n",
    "\n",
    "# -- 5️⃣ Load trained ML model --\n",
    "\n",
    "model = load_energy_predictor()\n",
    "print(\"Energy prediction model loaded.\")\n",
    "\n",
    "# -- 6️⃣ Plan a test path --\n",
    "\n",
    "start = (0, 0)\n",
    "goal = (10, 10)\n",
    "\n",
    "path = plan_energy_efficient_path(start, goal, model)\n",
    "print(f\"Planned Path: {path}\")\n",
    "\n",
    "# -- 7️⃣ Calculate estimated total energy for planned path --\n",
    "\n",
    "# For simplicity, estimate energy for each step as a fixed prediction\n",
    "step_energy = model.predict([[5, 0, 10]])[0]\n",
    "total_energy = step_energy * len(path)\n",
    "\n",
    "print(f\"Estimated total energy for planned path: {total_energy:.2f} W\")\n",
    "\n",
    "# -- 8️⃣ Insert planned path and energy into database --\n",
    "\n",
    "insert_path(path, total_energy)\n",
    "print(\"Planned path inserted into database.\")\n",
    "\n",
    "# -- 9️⃣ Query paths by energy threshold --\n",
    "\n",
    "max_energy = 80\n",
    "results = query_paths_by_energy(max_energy=max_energy)\n",
    "\n",
    "print(f\"Paths with total energy <= {max_energy}:\")\n",
    "if results:\n",
    "    for r in results:\n",
    "        path_json = r[1]\n",
    "        path_list = json.loads(path_json)\n",
    "        print(f\"ID: {r[0]}, Path: {path_list}, Total Energy: {r[2]:.2f} W\")\n",
    "else:\n",
    "    print(\"No paths found within this energy limit.\")\n",
    "\n",
    "# -- 10️⃣ Optional: Visualize path (basic matplotlib plot) --\n",
    "\n",
    "import matplotlib.pyplot as plt\n",
    "\n",
    "xs = [pos[0] for pos in path]\n",
    "ys = [pos[1] for pos in path]\n",
    "\n",
    "plt.figure(figsize=(6,6))\n",
    "plt.plot(xs, ys, marker='o')\n",
    "plt.title(\"Planned Drone Path\")\n",
    "plt.xlabel(\"X coordinate\")\n",
    "plt.ylabel(\"Y coordinate\")\n",
    "plt.grid(True)\n",
    "plt.show()\n"
   ]
  },
  {
   "cell_type": "code",
   "execution_count": null,
   "id": "75ef9f09-7aee-4ede-b4ba-7cde5bbe729c",
   "metadata": {},
   "outputs": [],
   "source": []
  },
  {
   "cell_type": "code",
   "execution_count": null,
   "id": "06f41578-5ea7-41ff-b786-773f013c167a",
   "metadata": {},
   "outputs": [],
   "source": []
  }
 ],
 "metadata": {
  "kernelspec": {
   "display_name": "pt",
   "language": "python",
   "name": "pt"
  },
  "language_info": {
   "codemirror_mode": {
    "name": "ipython",
    "version": 3
   },
   "file_extension": ".py",
   "mimetype": "text/x-python",
   "name": "python",
   "nbconvert_exporter": "python",
   "pygments_lexer": "ipython3",
   "version": "3.12.7"
  }
 },
 "nbformat": 4,
 "nbformat_minor": 5
}
